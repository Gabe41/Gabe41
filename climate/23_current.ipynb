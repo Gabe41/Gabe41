{
 "cells": [
  {
   "cell_type": "code",
   "execution_count": 45,
   "metadata": {},
   "outputs": [],
   "source": [
    "import pandas as pd\n",
    "import plotly\n",
    "\n",
    "df_pa = pd.read_csv('pa.csv')\n",
    "df_vt = pd.read_csv('vt.csv')\n",
    "df_mt = pd.read_csv('mt.csv')\n"
   ]
  },
  {
   "cell_type": "code",
   "execution_count": 67,
   "metadata": {},
   "outputs": [],
   "source": [
    "df_pa_clean = df_pa[df_pa[\"POC\"] == 7]\n",
    "df_vt_clean = df_vt[(df_vt[\"POC\"] == 3) & (df_vt[\"Site Name\"] == \"City of Burlington Parking Lot\")]\n",
    "df_mt_clean = df_mt[(df_mt[\"POC\"] == 3) &(df_mt[\"Site Name\"] == \"ROSSITER PUMP HOUSE\")]"
   ]
  },
  {
   "cell_type": "code",
   "execution_count": 43,
   "metadata": {},
   "outputs": [
    {
     "data": {
      "text/plain": [
       "count    217.000000\n",
       "mean      11.741935\n",
       "std       16.059978\n",
       "min        1.500000\n",
       "25%        6.000000\n",
       "50%        8.100000\n",
       "75%       12.200000\n",
       "max      163.200000\n",
       "Name: Daily Mean PM2.5 Concentration, dtype: float64"
      ]
     },
     "execution_count": 43,
     "metadata": {},
     "output_type": "execute_result"
    }
   ],
   "source": [
    "df_pa_clean[\"Daily Mean PM2.5 Concentration\"].describe()"
   ]
  },
  {
   "cell_type": "code",
   "execution_count": 44,
   "metadata": {},
   "outputs": [
    {
     "data": {
      "text/plain": [
       "count    211.000000\n",
       "mean       8.566825\n",
       "std        7.900563\n",
       "min        1.600000\n",
       "25%        4.950000\n",
       "50%        6.600000\n",
       "75%        9.150000\n",
       "max       68.700000\n",
       "Name: Daily Mean PM2.5 Concentration, dtype: float64"
      ]
     },
     "execution_count": 44,
     "metadata": {},
     "output_type": "execute_result"
    }
   ],
   "source": [
    "df_vt_clean[\"Daily Mean PM2.5 Concentration\"].describe()"
   ]
  },
  {
   "cell_type": "code",
   "execution_count": 68,
   "metadata": {},
   "outputs": [
    {
     "data": {
      "text/plain": [
       "count    222.000000\n",
       "mean       8.250000\n",
       "std        8.192253\n",
       "min        1.200000\n",
       "25%        4.300000\n",
       "50%        6.400000\n",
       "75%        9.575000\n",
       "max       74.900000\n",
       "Name: Daily Mean PM2.5 Concentration, dtype: float64"
      ]
     },
     "execution_count": 68,
     "metadata": {},
     "output_type": "execute_result"
    }
   ],
   "source": [
    "df_mt_clean[\"Daily Mean PM2.5 Concentration\"].describe()"
   ]
  },
  {
   "cell_type": "code",
   "execution_count": null,
   "metadata": {},
   "outputs": [],
   "source": []
  }
 ],
 "metadata": {
  "kernelspec": {
   "display_name": "Python 3",
   "language": "python",
   "name": "python3"
  },
  "language_info": {
   "codemirror_mode": {
    "name": "ipython",
    "version": 3
   },
   "file_extension": ".py",
   "mimetype": "text/x-python",
   "name": "python",
   "nbconvert_exporter": "python",
   "pygments_lexer": "ipython3",
   "version": "3.8.5"
  },
  "orig_nbformat": 4
 },
 "nbformat": 4,
 "nbformat_minor": 2
}
